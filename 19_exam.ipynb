{
  "nbformat": 4,
  "nbformat_minor": 0,
  "metadata": {
    "colab": {
      "provenance": [],
      "authorship_tag": "ABX9TyNX4XoBWcb/uoMEto+xivvf",
      "include_colab_link": true
    },
    "kernelspec": {
      "name": "python3",
      "display_name": "Python 3"
    },
    "language_info": {
      "name": "python"
    }
  },
  "cells": [
    {
      "cell_type": "markdown",
      "metadata": {
        "id": "view-in-github",
        "colab_type": "text"
      },
      "source": [
        "<a href=\"https://colab.research.google.com/github/pammyyAnn/19_EXam/blob/main/19_exam.ipynb\" target=\"_parent\"><img src=\"https://colab.research.google.com/assets/colab-badge.svg\" alt=\"Open In Colab\"/></a>"
      ]
    },
    {
      "cell_type": "code",
      "execution_count": 1,
      "metadata": {
        "colab": {
          "base_uri": "https://localhost:8080/"
        },
        "id": "obj0-RKhz45V",
        "outputId": "cfe4e4e1-b2f6-4a5b-8472-ac60b6710ffa"
      },
      "outputs": [
        {
          "output_type": "stream",
          "name": "stdout",
          "text": [
            "Mounted at /content/drive\n"
          ]
        }
      ],
      "source": [
        "from google.colab import drive\n",
        "drive.mount('/content/drive')"
      ]
    },
    {
      "cell_type": "code",
      "source": [
        "import pandas as pd"
      ],
      "metadata": {
        "id": "jD3tStjX0HBB"
      },
      "execution_count": 2,
      "outputs": []
    },
    {
      "cell_type": "code",
      "source": [
        "filename = '/content/drive/MyDrive/FINAL_ACT1_PAM/titanic.csv'\n",
        "df = pd.read_csv(filename)"
      ],
      "metadata": {
        "id": "pvLWLdqz0M5S"
      },
      "execution_count": 3,
      "outputs": []
    },
    {
      "cell_type": "code",
      "source": [
        "print(df.head())"
      ],
      "metadata": {
        "colab": {
          "base_uri": "https://localhost:8080/"
        },
        "id": "uyOI5CoT0lPv",
        "outputId": "8999e07a-cc77-4491-9233-f83a06aae334"
      },
      "execution_count": 6,
      "outputs": [
        {
          "output_type": "stream",
          "name": "stdout",
          "text": [
            "   PassengerId  Survived  Pclass  \\\n",
            "0            1         0       3   \n",
            "1            2         1       1   \n",
            "2            3         1       3   \n",
            "3            4         1       1   \n",
            "4            5         0       3   \n",
            "\n",
            "                                                Name     Sex   Age  SibSp  \\\n",
            "0                            Braund, Mr. Owen Harris    male  22.0      1   \n",
            "1  Cumings, Mrs. John Bradley (Florence Briggs Th...  female  38.0      1   \n",
            "2                             Heikkinen, Miss. Laina  female  26.0      0   \n",
            "3       Futrelle, Mrs. Jacques Heath (Lily May Peel)  female  35.0      1   \n",
            "4                           Allen, Mr. William Henry    male  35.0      0   \n",
            "\n",
            "   Parch            Ticket     Fare Cabin Embarked  \n",
            "0      0         A/5 21171   7.2500   NaN        S  \n",
            "1      0          PC 17599  71.2833   C85        C  \n",
            "2      0  STON/O2. 3101282   7.9250   NaN        S  \n",
            "3      0            113803  53.1000  C123        S  \n",
            "4      0            373450   8.0500   NaN        S  \n"
          ]
        }
      ]
    },
    {
      "cell_type": "code",
      "source": [
        "Survived_percentage = df['Survived'].mean() * 100\n",
        "print(\"\\nPercentage of people who Survived: {:.2f}%\".format(Survived_percentage))"
      ],
      "metadata": {
        "colab": {
          "base_uri": "https://localhost:8080/"
        },
        "id": "UER8sKGV0uUD",
        "outputId": "5ae7c1aa-0381-4cec-f584-86f8a44ccf72"
      },
      "execution_count": 11,
      "outputs": [
        {
          "output_type": "stream",
          "name": "stdout",
          "text": [
            "\n",
            "Percentage of people who Survived: 38.38%\n"
          ]
        }
      ]
    },
    {
      "cell_type": "code",
      "source": [
        "Sex_Survived_count = df.groupby('Sex')['Survived'].sum()\n",
        "print(\"\\nNumber of passengerid by Sex:\")\n",
        "print(Sex_Survived_count)"
      ],
      "metadata": {
        "colab": {
          "base_uri": "https://localhost:8080/"
        },
        "id": "v-N98H761x54",
        "outputId": "577cf594-67ed-4208-f8fa-a6e80dbf043e"
      },
      "execution_count": 13,
      "outputs": [
        {
          "output_type": "stream",
          "name": "stdout",
          "text": [
            "\n",
            "Number of passengerid by Sex:\n",
            "Sex\n",
            "female    233\n",
            "male      109\n",
            "Name: Survived, dtype: int64\n"
          ]
        }
      ]
    },
    {
      "cell_type": "code",
      "source": [
        "cheap_ticket_passengerid_percentage = (df[df['Fare'] < 10]['PassengerId'].mean()) * 100\n",
        "print(\"\\nPercentage of passengers who paid less than $10 and passengerid: {:.2f}%\".format(cheap_ticket_passengerid_percentage))"
      ],
      "metadata": {
        "colab": {
          "base_uri": "https://localhost:8080/"
        },
        "id": "hWIFTqBh4sce",
        "outputId": "e0f6c0df-d407-49a6-a58d-814246975789"
      },
      "execution_count": 19,
      "outputs": [
        {
          "output_type": "stream",
          "name": "stdout",
          "text": [
            "\n",
            "Percentage of passengers who paid less than $10 and passengerid: 45116.96%\n"
          ]
        }
      ]
    },
    {
      "cell_type": "code",
      "source": [
        "average_age_not_passengerid = df[df['PassengerId'] == 0]['Age'].mean()\n",
        "print(\"\\nAverage age of those who had a passengerId: {:.2f}\".format(average_age_not_passengerid))"
      ],
      "metadata": {
        "colab": {
          "base_uri": "https://localhost:8080/"
        },
        "id": "v0sUBDOQ4wR8",
        "outputId": "0d79960d-c0b6-49f7-e0e5-255d0e8f7998"
      },
      "execution_count": 17,
      "outputs": [
        {
          "output_type": "stream",
          "name": "stdout",
          "text": [
            "\n",
            "Average age of those who had a passengerId: nan\n"
          ]
        }
      ]
    },
    {
      "cell_type": "code",
      "source": [
        "average_age_passengerid = df[df['PassengerId'] == 1]['Age'].mean()\n",
        "print(\"\\nAverage age of those who did passengerid: {:.2f}\".format(average_age_passengerid))"
      ],
      "metadata": {
        "colab": {
          "base_uri": "https://localhost:8080/"
        },
        "id": "_buzQ6B95309",
        "outputId": "1dfa2e00-085b-4b37-a01a-de2d34e8898c"
      },
      "execution_count": 20,
      "outputs": [
        {
          "output_type": "stream",
          "name": "stdout",
          "text": [
            "\n",
            "Average age of those who did passengerid: 22.00\n"
          ]
        }
      ]
    },
    {
      "cell_type": "code",
      "source": [
        "average_age_by_Survived_and_Name = df.groupby(['Survived', 'Name'])['Age'].mean()\n",
        "print(\"\\nAverage age of those who did and didn't Survived grouped by name:\")\n",
        "print(average_age_by_Survived_and_Name )"
      ],
      "metadata": {
        "colab": {
          "base_uri": "https://localhost:8080/"
        },
        "id": "mSAbMdKU57nI",
        "outputId": "be1f64b6-a768-4eac-953e-6567a727d907"
      },
      "execution_count": 22,
      "outputs": [
        {
          "output_type": "stream",
          "name": "stdout",
          "text": [
            "\n",
            "Average age of those who did and didn't Survived grouped by name:\n",
            "Survived  Name                                        \n",
            "0         Abbing, Mr. Anthony                             42.0\n",
            "          Abbott, Mr. Rossmore Edward                     16.0\n",
            "          Abelson, Mr. Samuel                             30.0\n",
            "          Adahl, Mr. Mauritz Nils Martin                  30.0\n",
            "          Adams, Mr. John                                 26.0\n",
            "                                                          ... \n",
            "1         Woolner, Mr. Hugh                                NaN\n",
            "          Yasbeck, Mrs. Antoni (Selini Alexander)         15.0\n",
            "          Young, Miss. Marie Grice                        36.0\n",
            "          de Messemaeker, Mrs. Guillaume Joseph (Emma)    36.0\n",
            "          de Mulder, Mr. Theodore                         30.0\n",
            "Name: Age, Length: 891, dtype: float64\n"
          ]
        }
      ]
    }
  ]
}